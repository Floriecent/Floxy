{
 "cells": [
  {
   "cell_type": "code",
   "execution_count": 24,
   "id": "e8963cc4",
   "metadata": {},
   "outputs": [
    {
     "name": "stdout",
     "output_type": "stream",
     "text": [
      "I love python\n"
     ]
    }
   ],
   "source": [
    "print(\"I love python\")"
   ]
  },
  {
   "cell_type": "markdown",
   "id": "2c52068f",
   "metadata": {},
   "source": [
    "simple calculation"
   ]
  },
  {
   "cell_type": "code",
   "execution_count": null,
   "id": "e1190323",
   "metadata": {},
   "outputs": [],
   "source": [
    "# age = 23\n",
    "age + 4"
   ]
  },
  {
   "cell_type": "code",
   "execution_count": 21,
   "id": "eacb28af",
   "metadata": {},
   "outputs": [
    {
     "name": "stdout",
     "output_type": "stream",
     "text": [
      "4.333333333333333\n"
     ]
    }
   ],
   "source": [
    "num1 = 2\n",
    "num2 = 5\n",
    "num3 = 6\n",
    "avg = (num1 +num2 + num3)/3\n",
    "print(avg)"
   ]
  },
  {
   "cell_type": "markdown",
   "id": "f6b8d166",
   "metadata": {},
   "source": [
    "# checking of system version"
   ]
  },
  {
   "cell_type": "code",
   "execution_count": 14,
   "id": "3da63d41",
   "metadata": {},
   "outputs": [
    {
     "name": "stdout",
     "output_type": "stream",
     "text": [
      "3.11.5 (main, Sep 11 2023, 08:19:27) [Clang 14.0.6 ]\n"
     ]
    }
   ],
   "source": [
    "import sys\n",
    "print(sys.version)"
   ]
  },
  {
   "cell_type": "code",
   "execution_count": 15,
   "id": "6b08cb6d",
   "metadata": {},
   "outputs": [
    {
     "name": "stdout",
     "output_type": "stream",
     "text": [
      "No Python documentation found for '3.11.5 (main, Sep 11 2023, 08:19:27) [Clang 14.0.6 ]'.\n",
      "Use help() to get the interactive help utility.\n",
      "Use help(str) for help on the str class.\n",
      "\n"
     ]
    }
   ],
   "source": [
    "import sys\n",
    "help(sys.version)"
   ]
  },
  {
   "cell_type": "code",
   "execution_count": 18,
   "id": "af2b5b81",
   "metadata": {},
   "outputs": [
    {
     "name": "stdout",
     "output_type": "stream",
     "text": [
      "1500\n"
     ]
    }
   ],
   "source": [
    "num1 = 50\n",
    "num2 = 30\n",
    "mult = num1 * num2\n",
    "print(mult)"
   ]
  },
  {
   "cell_type": "code",
   "execution_count": 23,
   "id": "1ec21cc9",
   "metadata": {},
   "outputs": [
    {
     "data": {
      "text/plain": [
       "'The value of x is7'"
      ]
     },
     "execution_count": 23,
     "metadata": {},
     "output_type": "execute_result"
    }
   ],
   "source": [
    "x= 3 + 2 * 2\n",
    "\n",
    "\"The value of x is\" + str (x)"
   ]
  },
  {
   "cell_type": "code",
   "execution_count": 25,
   "id": "8c5b8930",
   "metadata": {},
   "outputs": [
    {
     "name": "stdout",
     "output_type": "stream",
     "text": [
      "10\n"
     ]
    }
   ],
   "source": [
    "y = (3+2)*2\n",
    "print(y)"
   ]
  },
  {
   "cell_type": "markdown",
   "id": "473f44e2",
   "metadata": {},
   "source": [
    "# How to check data type"
   ]
  },
  {
   "cell_type": "code",
   "execution_count": 27,
   "id": "ac3bd7d1",
   "metadata": {},
   "outputs": [
    {
     "data": {
      "text/plain": [
       "int"
      ]
     },
     "execution_count": 27,
     "metadata": {},
     "output_type": "execute_result"
    }
   ],
   "source": [
    "12\n",
    "type(12)"
   ]
  },
  {
   "cell_type": "code",
   "execution_count": 29,
   "id": "fc10cf25",
   "metadata": {},
   "outputs": [
    {
     "data": {
      "text/plain": [
       "str"
      ]
     },
     "execution_count": 29,
     "metadata": {},
     "output_type": "execute_result"
    }
   ],
   "source": [
    "\"12\"\n",
    "type(\"12\")"
   ]
  },
  {
   "cell_type": "code",
   "execution_count": 37,
   "id": "6d0c4798",
   "metadata": {},
   "outputs": [
    {
     "data": {
      "text/plain": [
       "[67, 89, 12, 34, 12, 34]"
      ]
     },
     "execution_count": 37,
     "metadata": {},
     "output_type": "execute_result"
    }
   ],
   "source": [
    "ages = [23, 45, 67, 89, 12, 34, 12, 34, 8, 39]\n",
    "ages [2:8]"
   ]
  },
  {
   "cell_type": "markdown",
   "id": "9bfaa00a",
   "metadata": {},
   "source": [
    "# Using slices"
   ]
  },
  {
   "cell_type": "code",
   "execution_count": 36,
   "id": "05ded420",
   "metadata": {},
   "outputs": [
    {
     "data": {
      "text/plain": [
       "[23, 12, 8]"
      ]
     },
     "execution_count": 36,
     "metadata": {},
     "output_type": "execute_result"
    }
   ],
   "source": [
    "ages [::4]"
   ]
  },
  {
   "cell_type": "code",
   "execution_count": 38,
   "id": "bf870fe3",
   "metadata": {},
   "outputs": [
    {
     "data": {
      "text/plain": [
       "363"
      ]
     },
     "execution_count": 38,
     "metadata": {},
     "output_type": "execute_result"
    }
   ],
   "source": [
    "sum(ages)"
   ]
  },
  {
   "cell_type": "code",
   "execution_count": 51,
   "id": "857e03cf",
   "metadata": {},
   "outputs": [
    {
     "data": {
      "text/plain": [
       "9"
      ]
     },
     "execution_count": 51,
     "metadata": {},
     "output_type": "execute_result"
    }
   ],
   "source": [
    "len(ages)"
   ]
  },
  {
   "cell_type": "code",
   "execution_count": 41,
   "id": "233c38d4",
   "metadata": {},
   "outputs": [
    {
     "data": {
      "text/plain": [
       "5"
      ]
     },
     "execution_count": 41,
     "metadata": {},
     "output_type": "execute_result"
    }
   ],
   "source": [
    "name = \"Michael Jackson\"\n",
    "name. find(\"el\")"
   ]
  },
  {
   "cell_type": "code",
   "execution_count": 42,
   "id": "cbd12ea4",
   "metadata": {},
   "outputs": [
    {
     "data": {
      "text/plain": [
       "['I', 'like', 'rice']"
      ]
     },
     "execution_count": 42,
     "metadata": {},
     "output_type": "execute_result"
    }
   ],
   "source": [
    "\"I like rice\".split()"
   ]
  },
  {
   "cell_type": "markdown",
   "id": "74269622",
   "metadata": {},
   "source": [
    "# write python code to multiply two numbers"
   ]
  },
  {
   "cell_type": "code",
   "execution_count": 49,
   "id": "5768cb2b",
   "metadata": {
    "scrolled": true
   },
   "outputs": [
    {
     "name": "stdout",
     "output_type": "stream",
     "text": [
      "1\n",
      "2\n",
      "3\n",
      "4\n",
      "5\n",
      "5\n",
      "9\n",
      "7\n",
      "8\n"
     ]
    }
   ],
   "source": [
    "ages = [1, 2, 3, 4, 5, 5, 9, 7, 8]\n",
    "for age in ages:\n",
    "    print (age)\n",
    "\n",
    "    "
   ]
  },
  {
   "cell_type": "code",
   "execution_count": 50,
   "id": "f3351a03",
   "metadata": {},
   "outputs": [
    {
     "data": {
      "text/plain": [
       "[9, 7, 8]"
      ]
     },
     "execution_count": 50,
     "metadata": {},
     "output_type": "execute_result"
    }
   ],
   "source": [
    "ages = [1, 2, 3, 4, 5, 5, 9, 7, 8]\n",
    "new_ages = []\n",
    "for age in ages:\n",
    "    if age > 5:\n",
    "        new_ages. append (age)\n",
    "new_ages"
   ]
  },
  {
   "cell_type": "code",
   "execution_count": 56,
   "id": "59236c59",
   "metadata": {},
   "outputs": [
    {
     "name": "stdout",
     "output_type": "stream",
     "text": [
      "1 is odd\n",
      "2 is even\n",
      "3 is odd\n",
      "4 is even\n",
      "5 is odd\n",
      "5 is odd\n",
      "9 is odd\n",
      "7 is odd\n",
      "8 is even\n"
     ]
    }
   ],
   "source": [
    "Lists = [1, 2, 3, 4, 5, 5, 9, 7, 8]\n",
    "odd = []\n",
    "even = []\n",
    "for n in Lists:\n",
    "    if (n%2==0):\n",
    "        print(\"{} is even\".format(n))\n",
    "    else:\n",
    "        print(\"{} is odd\". format (n))\n",
    "    "
   ]
  },
  {
   "cell_type": "code",
   "execution_count": 2,
   "id": "f9a1a2bc",
   "metadata": {
    "tags": []
   },
   "outputs": [
    {
     "name": "stdout",
     "output_type": "stream",
     "text": [
      "1 X 1 = 1\n",
      "1 X 2 = 2\n",
      "1 X 3 = 3\n",
      "1 X 4 = 4\n",
      "1 X 5 = 5\n",
      "1 X 6 = 6\n",
      "1 X 7 = 7\n",
      "1 X 8 = 8\n",
      "1 X 9 = 9\n",
      "\n",
      "2 X 1 = 2\n",
      "2 X 2 = 4\n",
      "2 X 3 = 6\n",
      "2 X 4 = 8\n",
      "2 X 5 = 10\n",
      "2 X 6 = 12\n",
      "2 X 7 = 14\n",
      "2 X 8 = 16\n",
      "2 X 9 = 18\n",
      "\n",
      "3 X 1 = 3\n",
      "3 X 2 = 6\n",
      "3 X 3 = 9\n",
      "3 X 4 = 12\n",
      "3 X 5 = 15\n",
      "3 X 6 = 18\n",
      "3 X 7 = 21\n",
      "3 X 8 = 24\n",
      "3 X 9 = 27\n",
      "\n",
      "4 X 1 = 4\n",
      "4 X 2 = 8\n",
      "4 X 3 = 12\n",
      "4 X 4 = 16\n",
      "4 X 5 = 20\n",
      "4 X 6 = 24\n",
      "4 X 7 = 28\n",
      "4 X 8 = 32\n",
      "4 X 9 = 36\n",
      "\n",
      "5 X 1 = 5\n",
      "5 X 2 = 10\n",
      "5 X 3 = 15\n",
      "5 X 4 = 20\n",
      "5 X 5 = 25\n",
      "5 X 6 = 30\n",
      "5 X 7 = 35\n",
      "5 X 8 = 40\n",
      "5 X 9 = 45\n",
      "\n",
      "6 X 1 = 6\n",
      "6 X 2 = 12\n",
      "6 X 3 = 18\n",
      "6 X 4 = 24\n",
      "6 X 5 = 30\n",
      "6 X 6 = 36\n",
      "6 X 7 = 42\n",
      "6 X 8 = 48\n",
      "6 X 9 = 54\n",
      "\n",
      "7 X 1 = 7\n",
      "7 X 2 = 14\n",
      "7 X 3 = 21\n",
      "7 X 4 = 28\n",
      "7 X 5 = 35\n",
      "7 X 6 = 42\n",
      "7 X 7 = 49\n",
      "7 X 8 = 56\n",
      "7 X 9 = 63\n",
      "\n",
      "8 X 1 = 8\n",
      "8 X 2 = 16\n",
      "8 X 3 = 24\n",
      "8 X 4 = 32\n",
      "8 X 5 = 40\n",
      "8 X 6 = 48\n",
      "8 X 7 = 56\n",
      "8 X 8 = 64\n",
      "8 X 9 = 72\n",
      "\n",
      "9 X 1 = 9\n",
      "9 X 2 = 18\n",
      "9 X 3 = 27\n",
      "9 X 4 = 36\n",
      "9 X 5 = 45\n",
      "9 X 6 = 54\n",
      "9 X 7 = 63\n",
      "9 X 8 = 72\n",
      "9 X 9 = 81\n",
      "\n",
      "10 X 1 = 10\n",
      "10 X 2 = 20\n",
      "10 X 3 = 30\n",
      "10 X 4 = 40\n",
      "10 X 5 = 50\n",
      "10 X 6 = 60\n",
      "10 X 7 = 70\n",
      "10 X 8 = 80\n",
      "10 X 9 = 90\n",
      "\n"
     ]
    }
   ],
   "source": [
    "for num in range(1,11):\n",
    "    multiplier = 1\n",
    "    while multiplier < 10:\n",
    "        print(\"{} X {} = {}\". format( num, multiplier, num * multiplier))\n",
    "        multiplier += 1\n",
    "    print(\"\")\n"
   ]
  },
  {
   "cell_type": "code",
   "execution_count": null,
   "id": "cad0486a-91f6-41de-b6a5-43a0ff6e4213",
   "metadata": {},
   "outputs": [],
   "source": []
  },
  {
   "cell_type": "code",
   "execution_count": 3,
   "id": "f44d5c52-f70b-4420-bef4-07dbdef9d1df",
   "metadata": {
    "tags": []
   },
   "outputs": [
    {
     "name": "stdout",
     "output_type": "stream",
     "text": [
      "-5 X 1 = -5\n",
      "-5 X 2 = -10\n",
      "-5 X 3 = -15\n",
      "-5 X 4 = -20\n",
      "-5 X 5 = -25\n",
      "-5 X 6 = -30\n",
      "-5 X 7 = -35\n",
      "-5 X 8 = -40\n",
      "-5 X 9 = -45\n",
      "\n",
      "-4 X 1 = -4\n",
      "-4 X 2 = -8\n",
      "-4 X 3 = -12\n",
      "-4 X 4 = -16\n",
      "-4 X 5 = -20\n",
      "-4 X 6 = -24\n",
      "-4 X 7 = -28\n",
      "-4 X 8 = -32\n",
      "-4 X 9 = -36\n",
      "\n",
      "-3 X 1 = -3\n",
      "-3 X 2 = -6\n",
      "-3 X 3 = -9\n",
      "-3 X 4 = -12\n",
      "-3 X 5 = -15\n",
      "-3 X 6 = -18\n",
      "-3 X 7 = -21\n",
      "-3 X 8 = -24\n",
      "-3 X 9 = -27\n",
      "\n",
      "-2 X 1 = -2\n",
      "-2 X 2 = -4\n",
      "-2 X 3 = -6\n",
      "-2 X 4 = -8\n",
      "-2 X 5 = -10\n",
      "-2 X 6 = -12\n",
      "-2 X 7 = -14\n",
      "-2 X 8 = -16\n",
      "-2 X 9 = -18\n",
      "\n",
      "-1 X 1 = -1\n",
      "-1 X 2 = -2\n",
      "-1 X 3 = -3\n",
      "-1 X 4 = -4\n",
      "-1 X 5 = -5\n",
      "-1 X 6 = -6\n",
      "-1 X 7 = -7\n",
      "-1 X 8 = -8\n",
      "-1 X 9 = -9\n",
      "\n",
      "0 X 1 = 0\n",
      "0 X 2 = 0\n",
      "0 X 3 = 0\n",
      "0 X 4 = 0\n",
      "0 X 5 = 0\n",
      "0 X 6 = 0\n",
      "0 X 7 = 0\n",
      "0 X 8 = 0\n",
      "0 X 9 = 0\n",
      "\n",
      "1 X 1 = 1\n",
      "1 X 2 = 2\n",
      "1 X 3 = 3\n",
      "1 X 4 = 4\n",
      "1 X 5 = 5\n",
      "1 X 6 = 6\n",
      "1 X 7 = 7\n",
      "1 X 8 = 8\n",
      "1 X 9 = 9\n",
      "\n",
      "2 X 1 = 2\n",
      "2 X 2 = 4\n",
      "2 X 3 = 6\n",
      "2 X 4 = 8\n",
      "2 X 5 = 10\n",
      "2 X 6 = 12\n",
      "2 X 7 = 14\n",
      "2 X 8 = 16\n",
      "2 X 9 = 18\n",
      "\n",
      "3 X 1 = 3\n",
      "3 X 2 = 6\n",
      "3 X 3 = 9\n",
      "3 X 4 = 12\n",
      "3 X 5 = 15\n",
      "3 X 6 = 18\n",
      "3 X 7 = 21\n",
      "3 X 8 = 24\n",
      "3 X 9 = 27\n",
      "\n",
      "4 X 1 = 4\n",
      "4 X 2 = 8\n",
      "4 X 3 = 12\n",
      "4 X 4 = 16\n",
      "4 X 5 = 20\n",
      "4 X 6 = 24\n",
      "4 X 7 = 28\n",
      "4 X 8 = 32\n",
      "4 X 9 = 36\n",
      "\n",
      "5 X 1 = 5\n",
      "5 X 2 = 10\n",
      "5 X 3 = 15\n",
      "5 X 4 = 20\n",
      "5 X 5 = 25\n",
      "5 X 6 = 30\n",
      "5 X 7 = 35\n",
      "5 X 8 = 40\n",
      "5 X 9 = 45\n",
      "\n"
     ]
    }
   ],
   "source": [
    "for num in range(-5,6):\n",
    "    multiplier = 1\n",
    "    while multiplier < 10:\n",
    "        print(\"{} X {} = {}\". format( num, multiplier, num * multiplier))\n",
    "        multiplier += 1\n",
    "    print(\"\")\n"
   ]
  },
  {
   "cell_type": "code",
   "execution_count": 6,
   "id": "b753d6ed-475a-4ade-a36f-bc141ffc14eb",
   "metadata": {
    "tags": []
   },
   "outputs": [
    {
     "name": "stdout",
     "output_type": "stream",
     "text": [
      "rock\n",
      "soul\n",
      "pop\n"
     ]
    }
   ],
   "source": [
    "Genres = [ 'rock', 'soul', 'pop']\n",
    "for x in Genres:\n",
    "    print (x)"
   ]
  },
  {
   "cell_type": "markdown",
   "id": "f31764f1-8118-42e6-8e55-c6dcc055fbaf",
   "metadata": {},
   "source": [
    "# create a for loop "
   ]
  },
  {
   "cell_type": "code",
   "execution_count": 9,
   "id": "90956f5f-2f6e-481c-a68a-9383c1e50aef",
   "metadata": {
    "tags": []
   },
   "outputs": [
    {
     "name": "stdout",
     "output_type": "stream",
     "text": [
      "10\n",
      "9.5\n",
      "10\n",
      "8\n",
      "7.5\n"
     ]
    }
   ],
   "source": [
    "PlayListRatings = [10, 9.5, 10, 8, 7.5, 5, 10, 10 ]\n",
    "\n",
    "for rating in PlayListRatings:\n",
    "    if rating < 6:\n",
    "        break\n",
    "    print(rating)\n"
   ]
  },
  {
   "cell_type": "markdown",
   "id": "a4a50447-65ad-4e58-b208-916a0b4e88a2",
   "metadata": {},
   "source": [
    "# create while loop"
   ]
  },
  {
   "cell_type": "code",
   "execution_count": 11,
   "id": "363295ac-eec9-4b0b-8f94-018e013b3dec",
   "metadata": {
    "tags": []
   },
   "outputs": [
    {
     "name": "stdout",
     "output_type": "stream",
     "text": [
      "10\n",
      "9.5\n",
      "10\n",
      "8\n",
      "7.5\n"
     ]
    }
   ],
   "source": [
    "PlayListRatings = [10, 9.5, 10, 8, 7.5, 5, 10, 10 ]\n",
    "\n",
    "rating_indx = -1\n",
    "while rating_indx < len(PlayListRatings) - 1:\n",
    "    \n",
    "    rating_indx = rating_indx + 1\n",
    "    if PlayListRatings [rating_indx] < 6:\n",
    "        break\n",
    "    print(PlayListRatings[rating_indx])"
   ]
  },
  {
   "cell_type": "code",
   "execution_count": null,
   "id": "11a064a0-4159-4232-abd6-c2046f80404c",
   "metadata": {},
   "outputs": [],
   "source": []
  },
  {
   "cell_type": "code",
   "execution_count": 12,
   "id": "3b5e5b7f-f2dc-42cd-9536-717e18a46b2d",
   "metadata": {
    "tags": []
   },
   "outputs": [
    {
     "name": "stdout",
     "output_type": "stream",
     "text": [
      "10\n",
      "9.5\n",
      "10\n",
      "8\n",
      "7.5\n"
     ]
    }
   ],
   "source": [
    "PlayListRatings = [10, 9.5, 10, 8, 7.5, 5, 10, 10 ]\n",
    "\n",
    "rating_indx = 0\n",
    "while rating_indx < len(PlayListRatings) - 1:\n",
    "    \n",
    "    if PlayListRatings [rating_indx] < 6:\n",
    "        break\n",
    "    print(PlayListRatings[rating_indx])\n",
    "    \n",
    "    rating_indx = rating_indx + 1"
   ]
  },
  {
   "cell_type": "markdown",
   "id": "98adb635-a221-4c8b-9c14-b1d789607b54",
   "metadata": {},
   "source": [
    "# Tuples in python"
   ]
  },
  {
   "cell_type": "code",
   "execution_count": 16,
   "id": "f37363c0-c7c1-4083-8be1-ebb84c64e761",
   "metadata": {
    "tags": []
   },
   "outputs": [
    {
     "data": {
      "text/plain": [
       "[('Florence', 12), ('Mustapha', 13), ('Adejoke', 54)]"
      ]
     },
     "execution_count": 16,
     "metadata": {},
     "output_type": "execute_result"
    }
   ],
   "source": [
    "names = (\"Florence\", \"Mustapha\", \"Adejoke\")\n",
    "ages = (12,13,54)\n",
    "\n",
    "list (zip(names, ages))"
   ]
  },
  {
   "cell_type": "markdown",
   "id": "479e6eb4-6d0f-459d-b103-4ff6193141d3",
   "metadata": {},
   "source": [
    "# sorting"
   ]
  },
  {
   "cell_type": "code",
   "execution_count": 21,
   "id": "4b821539-fad4-4b38-9897-a264135b8999",
   "metadata": {
    "tags": []
   },
   "outputs": [
    {
     "data": {
      "text/plain": [
       "[9, 8, 7, 6, 6]"
      ]
     },
     "execution_count": 21,
     "metadata": {},
     "output_type": "execute_result"
    }
   ],
   "source": [
    "dare = [6,6,7,8,9]\n",
    "sorted(dare, reverse=True)"
   ]
  },
  {
   "cell_type": "code",
   "execution_count": null,
   "id": "37988202-4c34-4dd4-b9ef-8cefe8e4ef8e",
   "metadata": {},
   "outputs": [],
   "source": []
  },
  {
   "cell_type": "code",
   "execution_count": 24,
   "id": "a47d2a01-7a36-4b2e-8404-6628d0f4a6f4",
   "metadata": {
    "tags": []
   },
   "outputs": [
    {
     "data": {
      "text/plain": [
       "(6, 6)"
      ]
     },
     "execution_count": 24,
     "metadata": {},
     "output_type": "execute_result"
    }
   ],
   "source": [
    "Tuple = (6,6,7,8,9)\n",
    "Tuple [0:2]\n"
   ]
  },
  {
   "cell_type": "code",
   "execution_count": null,
   "id": "269a2a65-c2c8-438c-a912-fb3f4eca3638",
   "metadata": {},
   "outputs": [],
   "source": [
    "sorting tuple"
   ]
  },
  {
   "cell_type": "code",
   "execution_count": 25,
   "id": "380565af-7e15-4eb0-9f55-e340a808b2cf",
   "metadata": {
    "tags": []
   },
   "outputs": [
    {
     "data": {
      "text/plain": [
       "[-5, 6, 6, 7, 8, 9]"
      ]
     },
     "execution_count": 25,
     "metadata": {},
     "output_type": "execute_result"
    }
   ],
   "source": [
    "Tuple = (-5,6,6,7,8,9)\n",
    "sorted (Tuple)\n"
   ]
  },
  {
   "cell_type": "markdown",
   "id": "0c7522b0-d8f0-4099-ad1b-3936b1a05547",
   "metadata": {},
   "source": [
    " # sets"
   ]
  },
  {
   "cell_type": "code",
   "execution_count": 28,
   "id": "282af409-3eb9-4e3b-84aa-fdeef0ca1aa9",
   "metadata": {
    "tags": []
   },
   "outputs": [
    {
     "name": "stdout",
     "output_type": "stream",
     "text": [
      "{'pop', 'rock', 'disco', 'R&B'}\n"
     ]
    }
   ],
   "source": [
    "set = {'pop', 'rock', 'rock','R&B', 'disco'}\n",
    "print (set)"
   ]
  },
  {
   "cell_type": "code",
   "execution_count": 38,
   "id": "1e831944-b6ee-4d8b-9a9d-4682616759a9",
   "metadata": {
    "tags": []
   },
   "outputs": [
    {
     "name": "stdout",
     "output_type": "stream",
     "text": [
      "{'KADRIMA', 'KDBS', 'NYSC'}\n"
     ]
    }
   ],
   "source": [
    "A = {'NYSC','KADRIMA'}\n",
    "A.add (\"KDBS\")\n",
    "print (A)"
   ]
  },
  {
   "cell_type": "code",
   "execution_count": null,
   "id": "7b6444db-161d-4112-ad41-6253acbc3477",
   "metadata": {},
   "outputs": [],
   "source": []
  },
  {
   "cell_type": "code",
   "execution_count": 39,
   "id": "c0a5ab16-8439-49ae-9882-a14839e18784",
   "metadata": {
    "tags": []
   },
   "outputs": [
    {
     "name": "stdout",
     "output_type": "stream",
     "text": [
      "{'KADRIMA', 'NYSC'}\n"
     ]
    }
   ],
   "source": [
    "A = {'NYSC','KADRIMA', 'KDBS'}\n",
    "A.remove (\"KDBS\")\n",
    "print (A)"
   ]
  },
  {
   "cell_type": "code",
   "execution_count": null,
   "id": "31e8d389-ba04-434c-88b1-e8a5155d898c",
   "metadata": {},
   "outputs": [],
   "source": [
    "INTERSECTION"
   ]
  },
  {
   "cell_type": "code",
   "execution_count": 41,
   "id": "5964f8a3-3bbb-43fd-b813-49b5816378cf",
   "metadata": {
    "tags": []
   },
   "outputs": [
    {
     "name": "stdout",
     "output_type": "stream",
     "text": [
      "{2}\n"
     ]
    }
   ],
   "source": [
    "intersection = {1,2} & {3,2}\n",
    "print (intersection)"
   ]
  },
  {
   "cell_type": "code",
   "execution_count": 55,
   "id": "21f6002d-a2da-4c50-acbf-b2bb53a3cf6e",
   "metadata": {
    "tags": []
   },
   "outputs": [
    {
     "ename": "SyntaxError",
     "evalue": "invalid syntax (969312536.py, line 1)",
     "output_type": "error",
     "traceback": [
      "\u001b[0;36m  Cell \u001b[0;32mIn[55], line 1\u001b[0;36m\u001b[0m\n\u001b[0;31m    {1,2}.union {4,5,3}\u001b[0m\n\u001b[0m                ^\u001b[0m\n\u001b[0;31mSyntaxError\u001b[0m\u001b[0;31m:\u001b[0m invalid syntax\n"
     ]
    }
   ],
   "source": [
    "set {1,2}.union {4,5,3}\n"
   ]
  },
  {
   "cell_type": "code",
   "execution_count": null,
   "id": "cb207f5e-d791-4636-bec8-563bb1cea699",
   "metadata": {},
   "outputs": [],
   "source": []
  },
  {
   "cell_type": "code",
   "execution_count": null,
   "id": "0ced3b85-d798-4910-b1d1-d15266125f20",
   "metadata": {},
   "outputs": [],
   "source": []
  }
 ],
 "metadata": {
  "kernelspec": {
   "display_name": "Python 3 (ipykernel)",
   "language": "python",
   "name": "python3"
  },
  "language_info": {
   "codemirror_mode": {
    "name": "ipython",
    "version": 3
   },
   "file_extension": ".py",
   "mimetype": "text/x-python",
   "name": "python",
   "nbconvert_exporter": "python",
   "pygments_lexer": "ipython3",
   "version": "3.11.5"
  }
 },
 "nbformat": 4,
 "nbformat_minor": 5
}
